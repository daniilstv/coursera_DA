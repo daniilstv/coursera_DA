{
 "cells": [
  {
   "cell_type": "markdown",
   "id": "5d0918e5",
   "metadata": {},
   "source": [
    "### Как я могу узнать, какую виртуальную среду Python я использую?\n",
    "\n"
   ]
  },
  {
   "cell_type": "code",
   "execution_count": null,
   "id": "a0dbd915",
   "metadata": {},
   "outputs": [],
   "source": [
    "import sys\n",
    "print( sys.prefix )\n",
    "\n",
    "which python \n",
    "which pip\n",
    "print(sys.executable)"
   ]
  },
  {
   "cell_type": "code",
   "execution_count": 7,
   "id": "f0cfa7d7",
   "metadata": {
    "scrolled": true
   },
   "outputs": [
    {
     "name": "stdout",
     "output_type": "stream",
     "text": [
      "Currently running servers:\r\n",
      "http://localhost:8888/?token=56e68c2ce86d395c616287c45607d618ffa209add258777c :: /Users/daniilstv\r\n"
     ]
    }
   ],
   "source": [
    "!jupyter notebook list"
   ]
  },
  {
   "cell_type": "code",
   "execution_count": 3,
   "id": "a6692e1c",
   "metadata": {},
   "outputs": [
    {
     "data": {
      "application/json": {
       "cell": {
        "!": "OSMagics",
        "HTML": "Other",
        "SVG": "Other",
        "bash": "Other",
        "capture": "ExecutionMagics",
        "debug": "ExecutionMagics",
        "file": "Other",
        "html": "DisplayMagics",
        "javascript": "DisplayMagics",
        "js": "DisplayMagics",
        "latex": "DisplayMagics",
        "markdown": "DisplayMagics",
        "perl": "Other",
        "prun": "ExecutionMagics",
        "pypy": "Other",
        "python": "Other",
        "python2": "Other",
        "python3": "Other",
        "ruby": "Other",
        "script": "ScriptMagics",
        "sh": "Other",
        "svg": "DisplayMagics",
        "sx": "OSMagics",
        "system": "OSMagics",
        "time": "ExecutionMagics",
        "timeit": "ExecutionMagics",
        "writefile": "OSMagics"
       },
       "line": {
        "alias": "OSMagics",
        "alias_magic": "BasicMagics",
        "autoawait": "AsyncMagics",
        "autocall": "AutoMagics",
        "automagic": "AutoMagics",
        "autosave": "KernelMagics",
        "bookmark": "OSMagics",
        "cat": "Other",
        "cd": "OSMagics",
        "clear": "KernelMagics",
        "colors": "BasicMagics",
        "conda": "PackagingMagics",
        "config": "ConfigMagics",
        "connect_info": "KernelMagics",
        "cp": "Other",
        "debug": "ExecutionMagics",
        "dhist": "OSMagics",
        "dirs": "OSMagics",
        "doctest_mode": "BasicMagics",
        "ed": "Other",
        "edit": "KernelMagics",
        "env": "OSMagics",
        "gui": "BasicMagics",
        "hist": "Other",
        "history": "HistoryMagics",
        "killbgscripts": "ScriptMagics",
        "ldir": "Other",
        "less": "KernelMagics",
        "lf": "Other",
        "lk": "Other",
        "ll": "Other",
        "load": "CodeMagics",
        "load_ext": "ExtensionMagics",
        "loadpy": "CodeMagics",
        "logoff": "LoggingMagics",
        "logon": "LoggingMagics",
        "logstart": "LoggingMagics",
        "logstate": "LoggingMagics",
        "logstop": "LoggingMagics",
        "ls": "Other",
        "lsmagic": "BasicMagics",
        "lx": "Other",
        "macro": "ExecutionMagics",
        "magic": "BasicMagics",
        "man": "KernelMagics",
        "matplotlib": "PylabMagics",
        "mkdir": "Other",
        "more": "KernelMagics",
        "mv": "Other",
        "notebook": "BasicMagics",
        "page": "BasicMagics",
        "pastebin": "CodeMagics",
        "pdb": "ExecutionMagics",
        "pdef": "NamespaceMagics",
        "pdoc": "NamespaceMagics",
        "pfile": "NamespaceMagics",
        "pinfo": "NamespaceMagics",
        "pinfo2": "NamespaceMagics",
        "pip": "PackagingMagics",
        "popd": "OSMagics",
        "pprint": "BasicMagics",
        "precision": "BasicMagics",
        "prun": "ExecutionMagics",
        "psearch": "NamespaceMagics",
        "psource": "NamespaceMagics",
        "pushd": "OSMagics",
        "pwd": "OSMagics",
        "pycat": "OSMagics",
        "pylab": "PylabMagics",
        "qtconsole": "KernelMagics",
        "quickref": "BasicMagics",
        "recall": "HistoryMagics",
        "rehashx": "OSMagics",
        "reload_ext": "ExtensionMagics",
        "rep": "Other",
        "rerun": "HistoryMagics",
        "reset": "NamespaceMagics",
        "reset_selective": "NamespaceMagics",
        "rm": "Other",
        "rmdir": "Other",
        "run": "ExecutionMagics",
        "save": "CodeMagics",
        "sc": "OSMagics",
        "set_env": "OSMagics",
        "store": "StoreMagics",
        "sx": "OSMagics",
        "system": "OSMagics",
        "tb": "ExecutionMagics",
        "time": "ExecutionMagics",
        "timeit": "ExecutionMagics",
        "unalias": "OSMagics",
        "unload_ext": "ExtensionMagics",
        "who": "NamespaceMagics",
        "who_ls": "NamespaceMagics",
        "whos": "NamespaceMagics",
        "xdel": "NamespaceMagics",
        "xmode": "BasicMagics"
       }
      },
      "text/plain": [
       "Available line magics:\n",
       "%alias  %alias_magic  %autoawait  %autocall  %automagic  %autosave  %bookmark  %cat  %cd  %clear  %colors  %conda  %config  %connect_info  %cp  %debug  %dhist  %dirs  %doctest_mode  %ed  %edit  %env  %gui  %hist  %history  %killbgscripts  %ldir  %less  %lf  %lk  %ll  %load  %load_ext  %loadpy  %logoff  %logon  %logstart  %logstate  %logstop  %ls  %lsmagic  %lx  %macro  %magic  %man  %matplotlib  %mkdir  %more  %mv  %notebook  %page  %pastebin  %pdb  %pdef  %pdoc  %pfile  %pinfo  %pinfo2  %pip  %popd  %pprint  %precision  %prun  %psearch  %psource  %pushd  %pwd  %pycat  %pylab  %qtconsole  %quickref  %recall  %rehashx  %reload_ext  %rep  %rerun  %reset  %reset_selective  %rm  %rmdir  %run  %save  %sc  %set_env  %store  %sx  %system  %tb  %time  %timeit  %unalias  %unload_ext  %who  %who_ls  %whos  %xdel  %xmode\n",
       "\n",
       "Available cell magics:\n",
       "%%!  %%HTML  %%SVG  %%bash  %%capture  %%debug  %%file  %%html  %%javascript  %%js  %%latex  %%markdown  %%perl  %%prun  %%pypy  %%python  %%python2  %%python3  %%ruby  %%script  %%sh  %%svg  %%sx  %%system  %%time  %%timeit  %%writefile\n",
       "\n",
       "Automagic is ON, % prefix IS NOT needed for line magics."
      ]
     },
     "execution_count": 3,
     "metadata": {},
     "output_type": "execute_result"
    }
   ],
   "source": [
    "%lsmagic"
   ]
  },
  {
   "cell_type": "code",
   "execution_count": 4,
   "id": "ac7c79a0",
   "metadata": {
    "collapsed": true
   },
   "outputs": [
    {
     "data": {
      "text/plain": [
       "{'TERM_SESSION_ID': 'w0t2p0:E6BDEF35-32E1-4568-A32A-154AA4EC34EB',\n",
       " 'SSH_AUTH_SOCK': '/private/tmp/com.apple.launchd.xgB0UjDMfi/Listeners',\n",
       " 'LC_TERMINAL_VERSION': '3.3.11',\n",
       " 'COLORFGBG': '7;0',\n",
       " 'ITERM_PROFILE': 'Default',\n",
       " 'XPC_FLAGS': '0x0',\n",
       " 'LANG': 'ru_RU.UTF-8',\n",
       " 'PWD': '/Users/daniilstv',\n",
       " 'SHELL': '/bin/zsh',\n",
       " '__CFBundleIdentifier': 'com.googlecode.iterm2',\n",
       " 'SECURITYSESSIONID': '186aa',\n",
       " 'TERM_PROGRAM_VERSION': '3.3.11',\n",
       " 'TERM_PROGRAM': 'iTerm.app',\n",
       " 'PATH': '/opt/miniconda3/bin:/opt/miniconda3/condabin:/usr/local/bin:/usr/bin:/bin:/usr/sbin:/sbin:/opt/miniconda3/bin',\n",
       " 'LC_TERMINAL': 'iTerm2',\n",
       " 'COLORTERM': 'truecolor',\n",
       " 'COMMAND_MODE': 'unix2003',\n",
       " 'TERM': 'xterm-color',\n",
       " 'HOME': '/Users/daniilstv',\n",
       " 'TMPDIR': '/var/folders/lt/9kx_vcl11n9_fc2lrfz8b_r40000gn/T/',\n",
       " 'USER': 'daniilstv',\n",
       " 'XPC_SERVICE_NAME': '0',\n",
       " 'LOGNAME': 'daniilstv',\n",
       " 'LaunchInstanceID': '28568BE9-295C-41F5-827C-E4E7A7BE6709',\n",
       " '__CF_USER_TEXT_ENCODING': '0x1F5:0x7:0x31',\n",
       " 'ITERM_SESSION_ID': 'w0t2p0:E6BDEF35-32E1-4568-A32A-154AA4EC34EB',\n",
       " 'SHLVL': '1',\n",
       " 'OLDPWD': '/Users/daniilstv',\n",
       " 'CONDA_EXE': '/opt/miniconda3/bin/conda',\n",
       " '_CE_M': '',\n",
       " '_CE_CONDA': '',\n",
       " 'CONDA_PYTHON_EXE': '/opt/miniconda3/bin/python',\n",
       " 'CONDA_SHLVL': '1',\n",
       " 'CONDA_PREFIX': '/opt/miniconda3',\n",
       " 'CONDA_DEFAULT_ENV': 'base',\n",
       " 'CONDA_PROMPT_MODIFIER': '(base) ',\n",
       " '_': '/opt/miniconda3/bin/jupyter',\n",
       " 'JPY_PARENT_PID': '1030',\n",
       " 'CLICOLOR': '1',\n",
       " 'PAGER': 'cat',\n",
       " 'GIT_PAGER': 'cat',\n",
       " 'MPLBACKEND': 'module://ipykernel.pylab.backend_inline'}"
      ]
     },
     "execution_count": 4,
     "metadata": {},
     "output_type": "execute_result"
    }
   ],
   "source": [
    "%env "
   ]
  },
  {
   "cell_type": "markdown",
   "id": "8c495db3",
   "metadata": {},
   "source": [
    "### Jupyter (IPython) notebooks features\n",
    "\n",
    "http://arogozhnikov.github.io/2016/09/10/jupyter-features.html "
   ]
  },
  {
   "cell_type": "code",
   "execution_count": null,
   "id": "16e2a2f4",
   "metadata": {},
   "outputs": [],
   "source": []
  },
  {
   "cell_type": "markdown",
   "id": "69535f60",
   "metadata": {},
   "source": [
    "### Timing\n",
    "\n",
    "When you need to measure time spent or find the bottleneck in the code, ipython comes to the rescue.\n",
    "\n",
    "Timing and Profiling in IPython\n",
    "https://pynash.org/2013/03/06/timing-and-profiling/"
   ]
  },
  {
   "cell_type": "code",
   "execution_count": 5,
   "id": "5590bc26",
   "metadata": {},
   "outputs": [
    {
     "name": "stdout",
     "output_type": "stream",
     "text": [
      "CPU times: user 905 µs, sys: 1.59 ms, total: 2.49 ms\n",
      "Wall time: 2.01 s\n"
     ]
    }
   ],
   "source": [
    "%%time\n",
    "import time\n",
    "time.sleep(2) # sleep for two seconds"
   ]
  },
  {
   "cell_type": "code",
   "execution_count": 6,
   "id": "d35894e2",
   "metadata": {},
   "outputs": [
    {
     "name": "stdout",
     "output_type": "stream",
     "text": [
      "5.83 µs ± 101 ns per loop (mean ± std. dev. of 7 runs, 100000 loops each)\n"
     ]
    }
   ],
   "source": [
    "# measure small code snippets with timeit !\n",
    "import numpy\n",
    "%timeit numpy.random.normal(size=100)"
   ]
  },
  {
   "cell_type": "code",
   "execution_count": null,
   "id": "7d45b0f2",
   "metadata": {},
   "outputs": [],
   "source": []
  }
 ],
 "metadata": {
  "kernelspec": {
   "display_name": "Python 3",
   "language": "python",
   "name": "python3"
  },
  "language_info": {
   "codemirror_mode": {
    "name": "ipython",
    "version": 3
   },
   "file_extension": ".py",
   "mimetype": "text/x-python",
   "name": "python",
   "nbconvert_exporter": "python",
   "pygments_lexer": "ipython3",
   "version": "3.9.1"
  }
 },
 "nbformat": 4,
 "nbformat_minor": 5
}
